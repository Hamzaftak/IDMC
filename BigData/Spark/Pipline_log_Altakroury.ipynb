{
 "cells": [
  {
   "cell_type": "code",
   "execution_count": 1,
   "id": "81c17ebc-e9be-45f6-ab8f-909af4ea30d9",
   "metadata": {
    "tags": []
   },
   "outputs": [],
   "source": [
    "# Note that the coef. accuarcy may change slightly according each time\n",
    "# the progrram is re-run due the randomness in the split."
   ]
  },
  {
   "cell_type": "code",
   "execution_count": null,
   "id": "64290c08-4dcc-4441-b082-bcfe8ebd7c8a",
   "metadata": {},
   "outputs": [],
   "source": [
    "# In this notebook a random forward algorithm is designed to choose the variables which \n",
    "# give the best accuracy for the logistic regression classifier\n",
    "# This notebook is a continue to Pipline_Altakroury"
   ]
  },
  {
   "cell_type": "code",
   "execution_count": 2,
   "id": "dc9bc84c-b387-40d5-86e5-adec7ffb594a",
   "metadata": {
    "tags": []
   },
   "outputs": [],
   "source": [
    "from pyspark.ml.feature import VectorAssembler, OneHotEncoder, StringIndexer \n",
    "from pyspark.ml.classification import LogisticRegression, LogisticRegressionModel \n",
    "from pyspark.ml import Pipeline, PipelineModel \n",
    "from pyspark.mllib.evaluation import MulticlassMetrics \n",
    "from pyspark.ml.tuning import CrossValidator, ParamGridBuilder \n",
    "from pyspark.ml.evaluation import BinaryClassificationEvaluator\n",
    "from pyspark.sql.functions import col, when\n",
    "from pyspark.sql import SparkSession\n",
    "from matplotlib import pyplot as plt\n",
    "import seaborn as sns\n",
    "import pandas as pd\n",
    "import warnings\n",
    "warnings.simplefilter(action=\"ignore\", category=FutureWarning)"
   ]
  },
  {
   "cell_type": "code",
   "execution_count": 3,
   "id": "f53ea124-428f-4540-a9cf-812c0ba8f0f9",
   "metadata": {
    "tags": []
   },
   "outputs": [],
   "source": [
    "spark = (SparkSession.builder\n",
    "         .master('local')\n",
    "         .appName('Demo full pipeline')\n",
    "         .getOrCreate())"
   ]
  },
  {
   "cell_type": "code",
   "execution_count": 4,
   "id": "cebb022b-3192-4cff-87b5-c740c13c62f7",
   "metadata": {
    "tags": []
   },
   "outputs": [],
   "source": [
    "#--------------------------------------------------------------\n",
    "# Dataset\n",
    "#--------------------------------------------------------------\n",
    "rawdata = spark.read.options(header='True', inferSchema='True').format(\"csv\").load(\"FC-Churn.csv\")"
   ]
  },
  {
   "cell_type": "code",
   "execution_count": 5,
   "id": "4996245a-1ea3-4520-b9b0-36e1442d5518",
   "metadata": {
    "tags": []
   },
   "outputs": [],
   "source": [
    "newdata = rawdata.where(rawdata.TotalCharges!=\" \") # drop lines where TotalCharges = \" \"\n",
    "newdata = newdata.where(newdata.gender != \"NA\") # drop line where gender = \"NA\"\n",
    "newdata = newdata.where(newdata.MonthlyCharges > 0) # drop negative monthly charges\n",
    "newdata = newdata.where(newdata.tenure > 0) # drop lines where tenure < 0"
   ]
  },
  {
   "cell_type": "code",
   "execution_count": 6,
   "id": "e3a9caf5-44bf-443f-a244-4918d6c3c708",
   "metadata": {
    "tags": []
   },
   "outputs": [],
   "source": [
    "newdata = newdata.where(newdata.MonthlyCharges < 500)\n",
    "newdata = newdata.where(newdata.TotalCharges < 25000)\n",
    "newdata = newdata.where(newdata.tenure < 200)\n",
    "newdata2 = newdata.withColumn(\"TotalChargesFloat\", col(\"TotalCharges\").cast(\"float\"))\n",
    "newdata_final = newdata2.withColumn(\"Churn\", when(col(\"Churn\") == \"Yes\", 1).otherwise(0))"
   ]
  },
  {
   "cell_type": "code",
   "execution_count": 7,
   "id": "d4cf8189-eeb8-4d3b-9809-10b57084a0a8",
   "metadata": {
    "tags": []
   },
   "outputs": [],
   "source": [
    "genderIndexer = StringIndexer(inputCol=\"gender\", outputCol=\"gender_Num\")\n",
    "genderEncoder = OneHotEncoder(inputCols=[\"gender_Num\"], outputCols=[\"gender_Vector\"])\n",
    "\n",
    "partnerIndexer = StringIndexer(inputCol=\"Partner\", outputCol=\"partner_Num\")\n",
    "partnerEncoder = OneHotEncoder(inputCols=[\"partner_Num\"], outputCols=[\"partner_Vector\"])\n",
    "\n",
    "dependentsIndexer = StringIndexer(inputCol=\"Dependents\", outputCol=\"dependents_Num\")\n",
    "dependentsEncoder = OneHotEncoder(inputCols=[\"dependents_Num\"], outputCols=[\"dependents_Vector\"])\n",
    "\n",
    "phoneIndexer = StringIndexer(inputCol=\"PhoneService\", outputCol=\"phone_Num\")\n",
    "phoneEncoder = OneHotEncoder(inputCols=[\"phone_Num\"], outputCols=[\"phone_Vector\"])\n",
    "\n",
    "lineIndexer = StringIndexer(inputCol=\"MultipleLines\", outputCol=\"line_Num\")\n",
    "lineEncoder = OneHotEncoder(inputCols=[\"line_Num\"], outputCols=[\"line_Vector\"])\n",
    "\n",
    "netIndexer = StringIndexer(inputCol=\"InternetService\", outputCol=\"net_Num\")\n",
    "netEncoder = OneHotEncoder(inputCols=[\"net_Num\"], outputCols=[\"net_Vector\"])\n",
    "\n",
    "secIndexer = StringIndexer(inputCol=\"OnlineSecurity\", outputCol=\"sec_Num\")\n",
    "secEncoder = OneHotEncoder(inputCols=[\"sec_Num\"], outputCols=[\"sec_Vector\"])\n",
    "\n",
    "backIndexer = StringIndexer(inputCol=\"OnlineBackup\", outputCol=\"back_Num\")\n",
    "backEncoder = OneHotEncoder(inputCols=[\"back_Num\"], outputCols=[\"back_Vector\"])\n",
    "\n",
    "protectionIndexer = StringIndexer(inputCol=\"DeviceProtection\", outputCol=\"protection_Num\")\n",
    "protectionEncoder = OneHotEncoder(inputCols=[\"protection_Num\"], outputCols=[\"protection_Vector\"])\n",
    "\n",
    "techIndexer = StringIndexer(inputCol=\"TechSupport\", outputCol=\"tech_Num\")\n",
    "techEncoder = OneHotEncoder(inputCols=[\"tech_Num\"], outputCols=[\"tech_Vector\"])\n",
    "\n",
    "tvIndexer = StringIndexer(inputCol=\"StreamingTV\", outputCol=\"tv_Num\")\n",
    "tvEncoder = OneHotEncoder(inputCols=[\"tv_Num\"], outputCols=[\"tv_Vector\"])\n",
    "\n",
    "movIndexer = StringIndexer(inputCol=\"StreamingMovies\", outputCol=\"mov_Num\")\n",
    "movEncoder = OneHotEncoder(inputCols=[\"mov_Num\"], outputCols=[\"mov_Vector\"])\n",
    "\n",
    "contIndexer = StringIndexer(inputCol=\"Contract\", outputCol=\"cont_Num\")\n",
    "contEncoder = OneHotEncoder(inputCols=[\"cont_Num\"], outputCols=[\"cont_Vector\"])\n",
    "\n",
    "paperIndexer = StringIndexer(inputCol=\"PaperlessBilling\", outputCol=\"paper_Num\")\n",
    "paperEncoder = OneHotEncoder(inputCols=[\"paper_Num\"], outputCols=[\"paper_Vector\"])\n",
    "\n",
    "payIndexer = StringIndexer(inputCol=\"PaymentMethod\", outputCol=\"pay_Num\")\n",
    "payEncoder = OneHotEncoder(inputCols=[\"pay_Num\"], outputCols=[\"pay_Vector\"])"
   ]
  },
  {
   "cell_type": "code",
   "execution_count": 8,
   "id": "de6385e8-ac2e-40b4-b419-179f0bac0f15",
   "metadata": {
    "tags": []
   },
   "outputs": [],
   "source": [
    "trainDf, testDf = newdata_final.randomSplit([0.75, 0.25])"
   ]
  },
  {
   "cell_type": "code",
   "execution_count": 9,
   "id": "e9165352-d5fa-491d-89d6-4dcf57005a0e",
   "metadata": {
    "tags": []
   },
   "outputs": [
    {
     "name": "stdout",
     "output_type": "stream",
     "text": [
      "Training set areaUnderROC for gender : 0.5105411379154857\n",
      "Training set areaUnderROC for SeniorCitizen : 0.5633584581644844\n",
      "Training set areaUnderROC for partner : 0.5853693730821485\n",
      "Training set areaUnderROC for dependents : 0.5844421980042631\n",
      "Training set areaUnderROC for phone : 0.5030840260535007\n",
      "Training set areaUnderROC for line : 0.5314376676290085\n",
      "Training set areaUnderROC for net : 0.690131006828137\n",
      "Training set areaUnderROC for sec : 0.7048453933498864\n",
      "Training set areaUnderROC for back : 0.6733565769131666\n",
      "Training set areaUnderROC for protection : 0.6665175512695884\n",
      "Training set areaUnderROC for tech : 0.6964932231032301\n",
      "Training set areaUnderROC for tv : 0.6101383890925487\n",
      "Training set areaUnderROC for mov : 0.6119123102644586\n",
      "Training set areaUnderROC for cont : 0.7335699781569887\n",
      "Training set areaUnderROC for paper : 0.6054785405588999\n",
      "Training set areaUnderROC for pay : 0.6737793094563256\n",
      "Training set areaUnderROC for tenure : 0.7341865088660372\n",
      "Training set areaUnderROC for MonthlyCharges : 0.6228482730552106\n",
      "Training set areaUnderROC for TotalChargesFloat : 0.6432219686233625\n"
     ]
    }
   ],
   "source": [
    "all_feat = [\"gender_Vector\", \"SeniorCitizen\", \"partner_Vector\", \"dependents_Vector\",\n",
    "            \"phone_Vector\", \"line_Vector\", \"net_Vector\", \"sec_Vector\",\n",
    "            \"back_Vector\", \"protection_Vector\", \"tech_Vector\", \"tv_Vector\",\n",
    "            \"mov_Vector\", \"cont_Vector\", \"paper_Vector\", \"pay_Vector\",\n",
    "             \"tenure\", \"MonthlyCharges\", \"TotalChargesFloat\"]\n",
    "\n",
    "\n",
    "logreg = LogisticRegression(labelCol=\"Churn\")\n",
    "for i in all_feat:\n",
    "    inputc = i\n",
    "    dfAssembler = VectorAssembler(inputCols = [inputc] , outputCol=\"features\")\n",
    "    stage = [dfAssembler,logreg]\n",
    "    if i.find(\"_\") != -1:\n",
    "        indexer = i.split(\"_\")[0] + \"Indexer\"\n",
    "        stage.insert(0, locals()[indexer]) # changing string to variable name\n",
    "        encoder = i.split(\"_\")[0] + \"Encoder\"\n",
    "        stage.insert(1, locals()[encoder])\n",
    "    pipeline = Pipeline(stages = stage)\n",
    "    model = pipeline.fit(trainDf)\n",
    "    trainingSummary = model.stages[-1].summary\n",
    "    print(\"Training set areaUnderROC for \" + i.split(\"_\")[0] + \" : \" + str(trainingSummary.areaUnderROC))\n",
    "    "
   ]
  },
  {
   "cell_type": "code",
   "execution_count": 10,
   "id": "6184c58e-f65b-40a9-baf4-686f90a56211",
   "metadata": {
    "tags": []
   },
   "outputs": [],
   "source": [
    "# from the previous results on training set \n",
    "# I considered the contract as an important variable for classifying using logistic\n",
    "# As I did previous, I fix contract and add all the varaibles to see if this enhance the\n",
    "# accuarcy "
   ]
  },
  {
   "cell_type": "code",
   "execution_count": 15,
   "id": "88c4c334-39b6-4835-8c4d-0903f7dc1484",
   "metadata": {
    "tags": []
   },
   "outputs": [
    {
     "name": "stdout",
     "output_type": "stream",
     "text": [
      "Training set areaUnderROC for gender : 0.7430393066241294\n",
      "Training set areaUnderROC for SeniorCitizen : 0.7560527728571973\n",
      "Training set areaUnderROC for partner : 0.7427652780348231\n",
      "Training set areaUnderROC for dependents : 0.7533590305134736\n",
      "Training set areaUnderROC for phone : 0.7378955559080748\n",
      "Training set areaUnderROC for line : 0.7600630458539336\n",
      "Training set areaUnderROC for net : 0.7999836409063268\n",
      "Training set areaUnderROC for sec : 0.7874905076863872\n",
      "Training set areaUnderROC for back : 0.7782352265082679\n",
      "Training set areaUnderROC for protection : 0.7690029876001375\n",
      "Training set areaUnderROC for tech : 0.7810338065903464\n",
      "Training set areaUnderROC for tv : 0.7777495946029312\n",
      "Training set areaUnderROC for mov : 0.7774158029946505\n",
      "Training set areaUnderROC for paper : 0.7691825520626779\n",
      "Training set areaUnderROC for pay : 0.7805665350595022\n",
      "Training set areaUnderROC for tenure : 0.78016077078321\n",
      "Training set areaUnderROC for MonthlyCharges : 0.7914938037408129\n",
      "Training set areaUnderROC for TotalChargesFloat : 0.7539957683008861\n"
     ]
    }
   ],
   "source": [
    "all_feat = [\"gender_Vector\", \"SeniorCitizen\", \"partner_Vector\", \"dependents_Vector\",\n",
    "            \"phone_Vector\", \"line_Vector\", \"net_Vector\", \"sec_Vector\",\n",
    "            \"back_Vector\", \"protection_Vector\", \"tech_Vector\", \"tv_Vector\",\n",
    "            \"mov_Vector\", \"paper_Vector\", \"pay_Vector\",\n",
    "             \"tenure\", \"MonthlyCharges\", \"TotalChargesFloat\"]\n",
    "\n",
    "#var_abb = [\"gender\", \"partner\", \"dependents\", \"phone\", \"line\", \"net\", \"sec\", \"back\",\n",
    "#           \"protection\", \"tech\", \"tv\", \"mov\", \"cont\", \"paper\", \"pay\"]\n",
    "\n",
    "logreg = LogisticRegression(labelCol=\"Churn\")\n",
    "for i in all_feat:\n",
    "    inputc = [\"cont_Vector\"]\n",
    "    inputc.append(i)\n",
    "    dfAssembler = VectorAssembler(inputCols = inputc , outputCol=\"features\")\n",
    "    stage = [contIndexer, contEncoder, dfAssembler, logreg]\n",
    "    if i.find(\"_\") != -1:\n",
    "        indexer = i.split(\"_\")[0] + \"Indexer\"\n",
    "        stage.insert(0, locals()[indexer]) # changing string to variable name\n",
    "        encoder = i.split(\"_\")[0] + \"Encoder\"\n",
    "        stage.insert(1, locals()[encoder])\n",
    "    pipeline = Pipeline(stages = stage)\n",
    "    model = pipeline.fit(trainDf)\n",
    "    trainingSummary = model.stages[-1].summary\n",
    "    print(\"Training set areaUnderROC for contract and \" + i.split(\"_\")[0] + \" : \" + str(trainingSummary.areaUnderROC))"
   ]
  },
  {
   "cell_type": "code",
   "execution_count": 16,
   "id": "1da2e550-c635-4fb9-ba49-d5769e5b4d19",
   "metadata": {
    "tags": []
   },
   "outputs": [],
   "source": [
    "# from the previous results on training set, in addition to contract\n",
    "# I considered the InternetService as an important variable for classifying using logistic\n",
    "# As I did previous, I fix contract and InternetService and add all the varaibles to see if this enhance the\n",
    "# accuarcy "
   ]
  },
  {
   "cell_type": "code",
   "execution_count": 18,
   "id": "d768a410-b511-460f-af93-0afbabf58c4b",
   "metadata": {
    "tags": []
   },
   "outputs": [
    {
     "name": "stdout",
     "output_type": "stream",
     "text": [
      "Training set areaUnderROC for contract, Internet and gender : 0.8027918601850139\n",
      "Training set areaUnderROC for contract, Internet and SeniorCitizen : 0.8031472252333236\n",
      "Training set areaUnderROC for contract, Internet and partner : 0.8063701135699325\n",
      "Training set areaUnderROC for contract, Internet and dependents : 0.8052662878554201\n",
      "Training set areaUnderROC for contract, Internet and phone : 0.8020255899555532\n",
      "Training set areaUnderROC for contract, Internet and line : 0.8028787965582376\n",
      "Training set areaUnderROC for contract, Internet and sec : 0.8099868319394138\n",
      "Training set areaUnderROC for contract, Internet and back : 0.8072171694471619\n",
      "Training set areaUnderROC for contract, Internet and protection : 0.8040672635991621\n",
      "Training set areaUnderROC for contract, Internet and tech : 0.8061676904411484\n",
      "Training set areaUnderROC for contract, Internet and tv : 0.8031576906467846\n",
      "Training set areaUnderROC for contract, Internet and mov : 0.8029893260126849\n",
      "Training set areaUnderROC for contract, Internet and paper : 0.806633493142033\n",
      "Training set areaUnderROC for contract, Internet and pay : 0.8115444343095181\n",
      "Training set areaUnderROC for contract, Internet and tenure : 0.8319138927812887\n",
      "Training set areaUnderROC for contract, Internet and MonthlyCharges : 0.8057575196749736\n",
      "Training set areaUnderROC for contract, Internet and TotalChargesFloat : 0.8275132782228339\n"
     ]
    }
   ],
   "source": [
    "all_feat = [\"gender_Vector\", \"SeniorCitizen\", \"partner_Vector\", \"dependents_Vector\",\n",
    "            \"phone_Vector\", \"line_Vector\", \"sec_Vector\",\n",
    "            \"back_Vector\", \"protection_Vector\", \"tech_Vector\", \"tv_Vector\",\n",
    "            \"mov_Vector\", \"paper_Vector\", \"pay_Vector\",\n",
    "             \"tenure\", \"MonthlyCharges\", \"TotalChargesFloat\"]\n",
    "\n",
    "\n",
    "logreg = LogisticRegression(labelCol=\"Churn\")\n",
    "for i in all_feat:\n",
    "    inputc = [\"net_Vector\", \"cont_Vector\" ]\n",
    "    inputc.append(i)\n",
    "    dfAssembler = VectorAssembler(inputCols = inputc , outputCol=\"features\")\n",
    "    stage = [netIndexer, netEncoder, contIndexer, contEncoder, dfAssembler, logreg]\n",
    "    if i.find(\"_\") != -1:\n",
    "        indexer = i.split(\"_\")[0] + \"Indexer\"\n",
    "        stage.insert(0, locals()[indexer]) # changing string to variable name\n",
    "        encoder = i.split(\"_\")[0] + \"Encoder\"\n",
    "        stage.insert(1, locals()[encoder])\n",
    "    pipeline = Pipeline(stages = stage)\n",
    "    model = pipeline.fit(trainDf)\n",
    "    trainingSummary = model.stages[-1].summary\n",
    "    print(\"Training set areaUnderROC for contract, Internet and \" + i.split(\"_\")[0] + \" : \" + str(trainingSummary.areaUnderROC))"
   ]
  },
  {
   "cell_type": "code",
   "execution_count": 19,
   "id": "b7e7843a-b573-4f99-8125-a4a074678859",
   "metadata": {
    "tags": []
   },
   "outputs": [],
   "source": [
    "# from the previous results on training set, in addition to contract and Internet\n",
    "# I considered the tenure as an important variable for classifying using logistic\n",
    "# As I did previous, I fix contract and InternetService and add all the varaibles to see if this enhance the\n",
    "# accuarcy "
   ]
  },
  {
   "cell_type": "code",
   "execution_count": 20,
   "id": "960b3053-3ea8-49e3-b09d-d17d12515639",
   "metadata": {
    "tags": []
   },
   "outputs": [
    {
     "name": "stdout",
     "output_type": "stream",
     "text": [
      "Training set areaUnderROC for contract, Internet, tenure and gender : 0.8315100563443185\n",
      "Training set areaUnderROC for contract, Internet, tenure and SeniorCitizen : 0.8323056113710946\n",
      "Training set areaUnderROC for contract, Internet, tenure and partner : 0.8318094222504244\n",
      "Training set areaUnderROC for contract, Internet, tenure and dependents : 0.8324314717382423\n",
      "Training set areaUnderROC for contract, Internet, tenure and phone : 0.8328543111628137\n",
      "Training set areaUnderROC for contract, Internet, tenure and line : 0.8345678849142328\n",
      "Training set areaUnderROC for contract, Internet, tenure and sec : 0.8339047999894242\n",
      "Training set areaUnderROC for contract, Internet, tenure and back : 0.8317734359164181\n",
      "Training set areaUnderROC for contract, Internet, tenure and protection : 0.8317946421489577\n",
      "Training set areaUnderROC for contract, Internet, tenure and tech : 0.8322844969404265\n",
      "Training set areaUnderROC for contract, Internet, tenure and tv : 0.8333818965238673\n",
      "Training set areaUnderROC for contract, Internet, tenure and mov : 0.8336174601286102\n",
      "Training set areaUnderROC for contract, Internet, tenure and paper : 0.8333104746670892\n",
      "Training set areaUnderROC for contract, Internet, tenure and pay : 0.8335543004403566\n",
      "Training set areaUnderROC for contract, Internet, tenure and MonthlyCharges : 0.8314908697529728\n",
      "Training set areaUnderROC for contract, Internet, tenure and TotalChargesFloat : 0.8336816296374638\n"
     ]
    }
   ],
   "source": [
    "all_feat = [\"gender_Vector\", \"SeniorCitizen\", \"partner_Vector\", \"dependents_Vector\",\n",
    "            \"phone_Vector\", \"line_Vector\", \"sec_Vector\",\n",
    "            \"back_Vector\", \"protection_Vector\", \"tech_Vector\", \"tv_Vector\",\n",
    "            \"mov_Vector\", \"paper_Vector\", \"pay_Vector\", \"MonthlyCharges\", \"TotalChargesFloat\"]\n",
    "\n",
    "\n",
    "logreg = LogisticRegression(labelCol=\"Churn\")\n",
    "for i in all_feat:\n",
    "    inputc = [\"net_Vector\", \"cont_Vector\", \"tenure\"]\n",
    "    inputc.append(i)\n",
    "    dfAssembler = VectorAssembler(inputCols = inputc , outputCol=\"features\")\n",
    "    stage = [netIndexer, netEncoder, contIndexer, contEncoder, dfAssembler, logreg]\n",
    "    if i.find(\"_\") != -1:\n",
    "        indexer = i.split(\"_\")[0] + \"Indexer\"\n",
    "        stage.insert(0, locals()[indexer]) # changing string to variable name\n",
    "        encoder = i.split(\"_\")[0] + \"Encoder\"\n",
    "        stage.insert(1, locals()[encoder])\n",
    "    pipeline = Pipeline(stages = stage)\n",
    "    model = pipeline.fit(trainDf)\n",
    "    trainingSummary = model.stages[-1].summary\n",
    "    print(\"Training set areaUnderROC for contract, Internet, tenure and \" + i.split(\"_\")[0] + \" : \" + str(trainingSummary.areaUnderROC))"
   ]
  },
  {
   "cell_type": "code",
   "execution_count": 21,
   "id": "4f1208d8-e545-4031-bd61-53afbf048b72",
   "metadata": {
    "tags": []
   },
   "outputs": [],
   "source": [
    "# The enhancement is slight after adding tenure so we considere only the following \n",
    "# variables for classifying according to logistic regression\n",
    "# Contract, InternetServices and tenure"
   ]
  },
  {
   "cell_type": "code",
   "execution_count": 22,
   "id": "68d00004-8630-4229-a9e7-0cb4f28fd04c",
   "metadata": {
    "tags": []
   },
   "outputs": [],
   "source": [
    "# When considering all the features (19 columns) resulted accuarcy on the training set was 0.8456002561231771\n",
    "# But by the forward algorithm, only three variables were considered and approximately the same accuracy \n",
    "# was obtained 0.8319138927812887"
   ]
  },
  {
   "cell_type": "code",
   "execution_count": 1,
   "id": "35d83d69-da5d-4f87-a283-40e3af9dca8d",
   "metadata": {
    "tags": []
   },
   "outputs": [],
   "source": [
    "# Next, the the accuarcy on the test set of the data:"
   ]
  },
  {
   "cell_type": "code",
   "execution_count": 12,
   "id": "1e67c023-dd99-4bae-9914-46a106ab4142",
   "metadata": {
    "tags": []
   },
   "outputs": [
    {
     "data": {
      "image/png": "[encoded data removed]",
      "text/plain": [
       "<Figure size 640x480 with 1 Axes>"
      ]
     },
     "metadata": {},
     "output_type": "display_data"
    },
    {
     "name": "stdout",
     "output_type": "stream",
     "text": [
      "Training set areaUnderROC: 0.8341538596524493\n",
      "+-----+----------+--------------------------------------------+-----------------------------------------+\n",
      "|Churn|prediction|rawPrediction                               |probability                              |\n",
      "+-----+----------+--------------------------------------------+-----------------------------------------+\n",
      "|0    |0.0       |[1.4335969078400326,-1.4335969078400326]    |[0.8074611370810787,0.1925388629189213]  |\n",
      "|0    |0.0       |[3.1255060308750426,-3.1255060308750426]    |[0.9579326686761065,0.04206733132389351] |\n",
      "|0    |0.0       |[3.1255060308750426,-3.1255060308750426]    |[0.9579326686761065,0.04206733132389351] |\n",
      "|0    |0.0       |[3.828201371173222,-3.828201371173222]      |[0.97871423928071,0.021285760719290003]  |\n",
      "|0    |0.0       |[4.749954561532279,-4.749954561532279]      |[0.9914221281729216,0.008577871827078365]|\n",
      "|0    |0.0       |[0.8367244333247992,-0.8367244333247992]    |[0.6977748956512148,0.30222510434878525] |\n",
      "|0    |0.0       |[3.438999657424072,-3.438999657424072]      |[0.9689013881640934,0.031098611835906564]|\n",
      "|0    |1.0       |[-0.03724550274733929,0.03724550274733929]  |[0.4906897005802113,0.5093102994197887]  |\n",
      "|0    |0.0       |[1.5896629678529144,-1.5896629678529144]    |[0.8305686797208234,0.16943132027917662] |\n",
      "|0    |0.0       |[1.0430336875676167,-1.0430336875676167]    |[0.7394349338618235,0.26056506613817654] |\n",
      "|0    |0.0       |[0.025180921257813793,-0.025180921257813793]|[0.5062948976962062,0.49370510230379383] |\n",
      "|0    |0.0       |[3.031866394867313,-3.031866394867313]      |[0.9539931588739183,0.046006841126081666]|\n",
      "|1    |1.0       |[-0.8487890148143244,0.8487890148143244]    |[0.29968695098919473,0.7003130490108053] |\n",
      "|1    |0.0       |[2.682125387943087,-2.682125387943087]      |[0.9359636283372083,0.06403637166279175] |\n",
      "|1    |0.0       |[1.4769933496178258,-1.4769933496178258]    |[0.81411801434081,0.18588198565919]      |\n",
      "|0    |0.0       |[1.3673490373685975,-1.3673490373685975]    |[0.7969515130089387,0.20304848699106126] |\n",
      "|0    |0.0       |[3.5102389422944156,-3.5102389422944156]    |[0.9709776983171589,0.029022301682841145]|\n",
      "|1    |1.0       |[-0.8175758028117484,0.8175758028117484]    |[0.3062784918348006,0.6937215081651994]  |\n",
      "|1    |0.0       |[1.0087951695791804,-1.0087951695791804]    |[0.7327842957984004,0.26721570420159957] |\n",
      "|0    |0.0       |[2.8133739108492786,-2.8133739108492786]    |[0.9433942609552463,0.056605739044753745]|\n",
      "|0    |0.0       |[1.3687105438918632,-1.3687105438918632]    |[0.7971717426475882,0.20282825735241183] |\n",
      "|0    |0.0       |[1.2585008655997911,-1.2585008655997911]    |[0.7787679321953452,0.22123206780465476] |\n",
      "|0    |0.0       |[4.500248865511669,-4.500248865511669]      |[0.989015761270152,0.010984238729847995] |\n",
      "|0    |0.0       |[3.0732539742583462,-3.0732539742583462]    |[0.9557759165806146,0.04422408341938544] |\n",
      "|1    |1.0       |[-0.7551493788065957,0.7551493788065957]    |[0.31970031372751256,0.6802996862724875] |\n",
      "|1    |1.0       |[-0.8175758028117484,0.8175758028117484]    |[0.3062784918348006,0.6937215081651994]  |\n",
      "|0    |0.0       |[0.3845309295276529,-0.3845309295276529]    |[0.5949654415668068,0.40503455843319325] |\n",
      "|0    |0.0       |[4.327612763214444,-4.327612763214444]      |[0.9869729255109565,0.0130270744890435]  |\n",
      "|0    |0.0       |[2.6509121759405105,-2.6509121759405105]    |[0.9340671897275551,0.06593281027244491] |\n",
      "|0    |0.0       |[0.6806583733119174,-0.6806583733119174]    |[0.6638856236620162,0.3361143763379838]  |\n",
      "|0    |0.0       |[4.327612763214444,-4.327612763214444]      |[0.9869729255109565,0.0130270744890435]  |\n",
      "|0    |0.0       |[2.7757650239508163,-2.7757650239508163]    |[0.9413520749782436,0.05864792502175642] |\n",
      "|0    |0.0       |[3.2439632039894617,-3.2439632039894617]    |[0.9624555819818317,0.037544418018168324]|\n",
      "|0    |0.0       |[1.320927289604944,-1.320927289604944]      |[0.789335941977827,0.21066405802217303]  |\n",
      "|0    |0.0       |[5.280579165576078,-5.280579165576078]      |[0.9949362893794996,0.005063710620500372]|\n",
      "|0    |0.0       |[2.9694399708621604,-2.9694399708621604]    |[0.9511742748253637,0.04882572517463635] |\n",
      "|0    |0.0       |[0.5405969895405349,-0.5405969895405349]    |[0.6319512817869978,0.3680487182130022]  |\n",
      "|0    |0.0       |[1.1648612295920622,-1.1648612295920622]    |[0.7622149031294474,0.2377850968705526]  |\n",
      "|0    |0.0       |[4.327612763214444,-4.327612763214444]      |[0.9869729255109565,0.0130270744890435]  |\n",
      "|0    |0.0       |[2.432419691922476,-2.432419691922476]      |[0.9192662943739496,0.08073370562605042] |\n",
      "+-----+----------+--------------------------------------------+-----------------------------------------+\n",
      "only showing top 40 rows\n",
      "\n",
      "Confusion matrix: [[1198.  255.]\n",
      " [ 128.  214.]]\n",
      "True negative: 1198.0\n",
      "False positive: 255.0\n",
      "False negative: 128.0\n",
      "True positive: 214.0\n",
      "Accuracy = 0.7866295264623956\n"
     ]
    }
   ],
   "source": [
    "dfAssembler = VectorAssembler(inputCols=[\"net_Vector\",\"cont_Vector\",\"tenure\"] , outputCol=\"features\")\n",
    "logreg = LogisticRegression(labelCol=\"Churn\")\n",
    "pipeline = Pipeline(stages=[netIndexer,\n",
    "                            netEncoder,\n",
    "                            contIndexer,\n",
    "                            contEncoder,\n",
    "                            dfAssembler,\n",
    "                            logreg])                           \n",
    "\n",
    "model = pipeline.fit(trainDf)\n",
    "\n",
    "trainingSummary = model.stages[-1].summary\n",
    "roc = trainingSummary.roc.toPandas()\n",
    "\n",
    "plt.plot(roc['FPR'],roc['TPR'])\n",
    "plt.ylabel('False Positive Rate')\n",
    "plt.xlabel('True Positive Rate')\n",
    "plt.title('ROC Curve')\n",
    "plt.show()\n",
    "print('Training set areaUnderROC: ' + str(trainingSummary.areaUnderROC))\n",
    "\n",
    "\n",
    "\n",
    "results = model.transform(testDf)\n",
    "\n",
    "results.select(\"Churn\",\"prediction\",\"rawPrediction\",\"probability\").show(40, truncate=False)\n",
    "\n",
    "predictionAndLabels= results.rdd.map(lambda row: (float(row.Churn), row.prediction))\n",
    "\n",
    "# Récupération des métriques\n",
    "metrics = MulticlassMetrics(predictionAndLabels)\n",
    "\n",
    "# Matrice de confusion\n",
    "print(\"Confusion matrix: %s\" % metrics.confusionMatrix().toArray())\n",
    "print(\"True negative: %s\" % metrics.confusionMatrix().toArray()[0,0])\n",
    "print(\"False positive: %s\" % metrics.confusionMatrix().toArray()[0,1])\n",
    "print(\"False negative: %s\" % metrics.confusionMatrix().toArray()[1,0])\n",
    "print(\"True positive: %s\" % metrics.confusionMatrix().toArray()[1,1])\n",
    "print(\"Accuracy = %s\" % metrics.accuracy)"
   ]
  },
  {
   "cell_type": "code",
   "execution_count": 13,
   "id": "5abb92bf-df67-4530-bf9b-4f7f275f6435",
   "metadata": {
    "tags": []
   },
   "outputs": [],
   "source": [
    "# The test accuarcy with three columns (0.7866295264623956) is similar to the \n",
    "# test accuarcy obtained with the 19 columns (0.8160983789826719)"
   ]
  },
  {
   "cell_type": "code",
   "execution_count": 14,
   "id": "6744d3c3-5685-4ef3-9a12-eb1883fa9940",
   "metadata": {
    "tags": []
   },
   "outputs": [
    {
     "name": "stdout",
     "output_type": "stream",
     "text": [
      "Model accuracy : 0.6106178278456874 \n"
     ]
    }
   ],
   "source": [
    "#--------------------------------------------------------------\n",
    "# BinaryClassificationEvaluator\n",
    "#--------------------------------------------------------------\n",
    "evaluator = BinaryClassificationEvaluator(labelCol=\"Churn\",rawPredictionCol=\"rawPrediction\", metricName=\"areaUnderPR\")\n",
    "\t\t\t\t\t\t\n",
    "print(\"Model accuracy : %s \" % evaluator.evaluate(results))"
   ]
  },
  {
   "cell_type": "code",
   "execution_count": null,
   "id": "3bf14227-ab85-45af-8ebc-d7a451c8ecd9",
   "metadata": {},
   "outputs": [],
   "source": []
  }
 ],
 "metadata": {
  "kernelspec": {
   "display_name": "Python 3 (ipykernel)",
   "language": "python",
   "name": "python3"
  },
  "language_info": {
   "codemirror_mode": {
    "name": "ipython",
    "version": 3
   },
   "file_extension": ".py",
   "mimetype": "text/x-python",
   "name": "python",
   "nbconvert_exporter": "python",
   "pygments_lexer": "ipython3",
   "version": "3.10.9"
  }
 },
 "nbformat": 4,
 "nbformat_minor": 5
}
